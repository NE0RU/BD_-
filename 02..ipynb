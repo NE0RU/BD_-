{
 "cells": [
  {
   "cell_type": "code",
   "execution_count": 1,
   "metadata": {},
   "outputs": [],
   "source": [
    "import pandas as pd"
   ]
  },
  {
   "cell_type": "code",
   "execution_count": 4,
   "metadata": {},
   "outputs": [
    {
     "data": {
      "text/html": [
       "<div>\n",
       "<style scoped>\n",
       "    .dataframe tbody tr th:only-of-type {\n",
       "        vertical-align: middle;\n",
       "    }\n",
       "\n",
       "    .dataframe tbody tr th {\n",
       "        vertical-align: top;\n",
       "    }\n",
       "\n",
       "    .dataframe thead th {\n",
       "        text-align: right;\n",
       "    }\n",
       "</style>\n",
       "<table border=\"1\" class=\"dataframe\">\n",
       "  <thead>\n",
       "    <tr style=\"text-align: right;\">\n",
       "      <th></th>\n",
       "      <th>0</th>\n",
       "      <th>1</th>\n",
       "      <th>2</th>\n",
       "      <th>3</th>\n",
       "      <th>4</th>\n",
       "      <th>5</th>\n",
       "      <th>6</th>\n",
       "      <th>7</th>\n",
       "      <th>8</th>\n",
       "      <th>9</th>\n",
       "      <th>10</th>\n",
       "      <th>11</th>\n",
       "      <th>12</th>\n",
       "      <th>13</th>\n",
       "      <th>14</th>\n",
       "      <th>15</th>\n",
       "      <th>16</th>\n",
       "      <th>17</th>\n",
       "    </tr>\n",
       "  </thead>\n",
       "  <tbody>\n",
       "    <tr>\n",
       "      <th>0</th>\n",
       "      <td>293</td>\n",
       "      <td>1</td>\n",
       "      <td>3.80</td>\n",
       "      <td>2.80</td>\n",
       "      <td>0</td>\n",
       "      <td>0</td>\n",
       "      <td>0</td>\n",
       "      <td>0</td>\n",
       "      <td>0</td>\n",
       "      <td>0</td>\n",
       "      <td>12</td>\n",
       "      <td>0</td>\n",
       "      <td>0</td>\n",
       "      <td>0</td>\n",
       "      <td>1</td>\n",
       "      <td>0</td>\n",
       "      <td>62</td>\n",
       "      <td>0</td>\n",
       "    </tr>\n",
       "    <tr>\n",
       "      <th>1</th>\n",
       "      <td>1</td>\n",
       "      <td>2</td>\n",
       "      <td>2.88</td>\n",
       "      <td>2.16</td>\n",
       "      <td>1</td>\n",
       "      <td>0</td>\n",
       "      <td>0</td>\n",
       "      <td>0</td>\n",
       "      <td>1</td>\n",
       "      <td>1</td>\n",
       "      <td>14</td>\n",
       "      <td>0</td>\n",
       "      <td>0</td>\n",
       "      <td>0</td>\n",
       "      <td>1</td>\n",
       "      <td>0</td>\n",
       "      <td>60</td>\n",
       "      <td>0</td>\n",
       "    </tr>\n",
       "    <tr>\n",
       "      <th>2</th>\n",
       "      <td>8</td>\n",
       "      <td>2</td>\n",
       "      <td>3.19</td>\n",
       "      <td>2.50</td>\n",
       "      <td>1</td>\n",
       "      <td>0</td>\n",
       "      <td>0</td>\n",
       "      <td>0</td>\n",
       "      <td>1</td>\n",
       "      <td>0</td>\n",
       "      <td>11</td>\n",
       "      <td>0</td>\n",
       "      <td>0</td>\n",
       "      <td>1</td>\n",
       "      <td>1</td>\n",
       "      <td>0</td>\n",
       "      <td>66</td>\n",
       "      <td>1</td>\n",
       "    </tr>\n",
       "    <tr>\n",
       "      <th>3</th>\n",
       "      <td>14</td>\n",
       "      <td>2</td>\n",
       "      <td>3.98</td>\n",
       "      <td>3.06</td>\n",
       "      <td>2</td>\n",
       "      <td>0</td>\n",
       "      <td>0</td>\n",
       "      <td>0</td>\n",
       "      <td>1</td>\n",
       "      <td>1</td>\n",
       "      <td>14</td>\n",
       "      <td>0</td>\n",
       "      <td>0</td>\n",
       "      <td>0</td>\n",
       "      <td>1</td>\n",
       "      <td>0</td>\n",
       "      <td>80</td>\n",
       "      <td>1</td>\n",
       "    </tr>\n",
       "    <tr>\n",
       "      <th>4</th>\n",
       "      <td>17</td>\n",
       "      <td>2</td>\n",
       "      <td>2.21</td>\n",
       "      <td>1.88</td>\n",
       "      <td>0</td>\n",
       "      <td>0</td>\n",
       "      <td>1</td>\n",
       "      <td>0</td>\n",
       "      <td>0</td>\n",
       "      <td>0</td>\n",
       "      <td>12</td>\n",
       "      <td>0</td>\n",
       "      <td>0</td>\n",
       "      <td>0</td>\n",
       "      <td>1</td>\n",
       "      <td>0</td>\n",
       "      <td>56</td>\n",
       "      <td>0</td>\n",
       "    </tr>\n",
       "  </tbody>\n",
       "</table>\n",
       "</div>"
      ],
      "text/plain": [
       "    0   1     2     3   4   5   6   7   8   9   10  11  12  13  14  15  16  17\n",
       "0  293   1  3.80  2.80   0   0   0   0   0   0  12   0   0   0   1   0  62   0\n",
       "1    1   2  2.88  2.16   1   0   0   0   1   1  14   0   0   0   1   0  60   0\n",
       "2    8   2  3.19  2.50   1   0   0   0   1   0  11   0   0   1   1   0  66   1\n",
       "3   14   2  3.98  3.06   2   0   0   0   1   1  14   0   0   0   1   0  80   1\n",
       "4   17   2  2.21  1.88   0   0   1   0   0   0  12   0   0   0   1   0  56   0"
      ]
     },
     "execution_count": 4,
     "metadata": {},
     "output_type": "execute_result"
    }
   ],
   "source": [
    "data = pd.read_csv(\"./data/ThoraricSurgery.csv\", header = None)\n",
    "data.head()"
   ]
  },
  {
   "cell_type": "code",
   "execution_count": 6,
   "metadata": {},
   "outputs": [
    {
     "data": {
      "text/plain": [
       "(470, 18)"
      ]
     },
     "execution_count": 6,
     "metadata": {},
     "output_type": "execute_result"
    }
   ],
   "source": [
    "data.shape"
   ]
  },
  {
   "cell_type": "code",
   "execution_count": 8,
   "metadata": {},
   "outputs": [],
   "source": [
    "X = data.iloc[:, :17]\n",
    "y = data.iloc[:, 17]"
   ]
  },
  {
   "cell_type": "code",
   "execution_count": 15,
   "metadata": {},
   "outputs": [
    {
     "data": {
      "text/plain": [
       "((470, 17), (470,))"
      ]
     },
     "execution_count": 15,
     "metadata": {},
     "output_type": "execute_result"
    }
   ],
   "source": [
    "X.shape, y.shape"
   ]
  },
  {
   "cell_type": "code",
   "execution_count": 16,
   "metadata": {},
   "outputs": [],
   "source": [
    "from sklearn.model_selection import train_test_split"
   ]
  },
  {
   "cell_type": "code",
   "execution_count": 17,
   "metadata": {},
   "outputs": [],
   "source": [
    "X_train, X_test, y_train, y_test = train_test_split(X, y, random_state=3)"
   ]
  },
  {
   "cell_type": "code",
   "execution_count": 19,
   "metadata": {},
   "outputs": [
    {
     "data": {
      "text/plain": [
       "((352, 17), (118, 17), (352,), (118,))"
      ]
     },
     "execution_count": 19,
     "metadata": {},
     "output_type": "execute_result"
    }
   ],
   "source": [
    "X_train.shape, X_test.shape, y_train.shape, y_test.shape"
   ]
  },
  {
   "cell_type": "code",
   "execution_count": 20,
   "metadata": {},
   "outputs": [],
   "source": [
    "from tensorflow.keras.models import Sequential\n",
    "from tensorflow.keras.layers import Dense"
   ]
  },
  {
   "cell_type": "code",
   "execution_count": 21,
   "metadata": {},
   "outputs": [],
   "source": [
    "model = Sequential()\n",
    "model.add(Dense(32, input_dim = 17, activation=\"relu\"))\n",
    "model.add(Dense(1, activation=\"sigmoid\"))"
   ]
  },
  {
   "cell_type": "code",
   "execution_count": 22,
   "metadata": {},
   "outputs": [],
   "source": [
    "model.compile(loss=\"binary_crossentropy\",\n",
    "              optimizer=\"adam\",\n",
    "              metrics=[\"accuracy\"])"
   ]
  },
  {
   "cell_type": "code",
   "execution_count": 27,
   "metadata": {},
   "outputs": [
    {
     "name": "stdout",
     "output_type": "stream",
     "text": [
      "Epoch 1/10\n",
      "11/11 - 0s - loss: 0.4420 - accuracy: 0.8381\n",
      "Epoch 2/10\n",
      "11/11 - 0s - loss: 0.4380 - accuracy: 0.8381\n",
      "Epoch 3/10\n",
      "11/11 - 0s - loss: 0.4281 - accuracy: 0.8381\n",
      "Epoch 4/10\n",
      "11/11 - 0s - loss: 0.4390 - accuracy: 0.8381\n",
      "Epoch 5/10\n",
      "11/11 - 0s - loss: 0.4197 - accuracy: 0.8381\n",
      "Epoch 6/10\n",
      "11/11 - 0s - loss: 0.4283 - accuracy: 0.8381\n",
      "Epoch 7/10\n",
      "11/11 - 0s - loss: 0.4655 - accuracy: 0.8409\n",
      "Epoch 8/10\n",
      "11/11 - 0s - loss: 0.4423 - accuracy: 0.8352\n",
      "Epoch 9/10\n",
      "11/11 - 0s - loss: 0.4348 - accuracy: 0.8381\n",
      "Epoch 10/10\n",
      "11/11 - 0s - loss: 0.4412 - accuracy: 0.8352\n"
     ]
    },
    {
     "data": {
      "text/plain": [
       "<tensorflow.python.keras.callbacks.History at 0x2a1e480c2c8>"
      ]
     },
     "execution_count": 27,
     "metadata": {},
     "output_type": "execute_result"
    }
   ],
   "source": [
    "model.fit(X_train, y_train, epochs=10, verbose=2)"
   ]
  },
  {
   "cell_type": "code",
   "execution_count": 24,
   "metadata": {},
   "outputs": [
    {
     "data": {
      "text/plain": [
       "[0.3912332355976105, 0.8898305296897888]"
      ]
     },
     "execution_count": 24,
     "metadata": {},
     "output_type": "execute_result"
    }
   ],
   "source": [
    "model.evaluate(X_test, y_test, verbose=0)"
   ]
  },
  {
   "cell_type": "code",
   "execution_count": 28,
   "metadata": {},
   "outputs": [
    {
     "data": {
      "text/plain": [
       "array([[9.94097888e-02],\n",
       "       [2.10516304e-01],\n",
       "       [1.60202265e-01],\n",
       "       [1.03673518e-01],\n",
       "       [1.15934700e-01],\n",
       "       [8.23701322e-02],\n",
       "       [1.94327682e-01],\n",
       "       [1.87298834e-01],\n",
       "       [1.73785657e-01],\n",
       "       [1.31005734e-01],\n",
       "       [1.88688546e-01],\n",
       "       [1.44961774e-01],\n",
       "       [8.93726945e-02],\n",
       "       [1.26598746e-01],\n",
       "       [1.29545122e-01],\n",
       "       [2.85169482e-01],\n",
       "       [1.72707647e-01],\n",
       "       [2.60917485e-01],\n",
       "       [1.18825823e-01],\n",
       "       [1.63630843e-01],\n",
       "       [7.83408582e-02],\n",
       "       [1.51491195e-01],\n",
       "       [2.52162963e-01],\n",
       "       [2.01674849e-01],\n",
       "       [2.22431630e-01],\n",
       "       [7.59711266e-02],\n",
       "       [2.33272254e-01],\n",
       "       [2.30700552e-01],\n",
       "       [1.96630180e-01],\n",
       "       [9.89935994e-02],\n",
       "       [2.35306412e-01],\n",
       "       [1.37601256e-01],\n",
       "       [1.22616882e-04],\n",
       "       [1.32306218e-01],\n",
       "       [2.25387841e-01],\n",
       "       [2.61235058e-01],\n",
       "       [2.04512835e-01],\n",
       "       [2.30561942e-01],\n",
       "       [8.14792514e-02],\n",
       "       [1.23404831e-01],\n",
       "       [1.34213865e-01],\n",
       "       [1.77156538e-01],\n",
       "       [2.72354126e-01],\n",
       "       [1.55336946e-01],\n",
       "       [1.79296553e-01],\n",
       "       [1.66957349e-01],\n",
       "       [9.13957953e-02],\n",
       "       [1.36346430e-01],\n",
       "       [9.80927348e-02],\n",
       "       [2.28285789e-04],\n",
       "       [1.46457702e-01],\n",
       "       [1.99531227e-01],\n",
       "       [1.23043299e-01],\n",
       "       [7.33595490e-02],\n",
       "       [1.01981133e-01],\n",
       "       [1.14297926e-01],\n",
       "       [8.12901855e-02],\n",
       "       [1.52544767e-01],\n",
       "       [1.65136665e-01],\n",
       "       [7.32899308e-02],\n",
       "       [1.38799489e-01],\n",
       "       [1.67023689e-01],\n",
       "       [1.46768928e-01],\n",
       "       [1.18785292e-01],\n",
       "       [1.89418316e-01],\n",
       "       [9.53873992e-02],\n",
       "       [9.66808796e-02],\n",
       "       [1.97916538e-01],\n",
       "       [9.69153345e-02],\n",
       "       [2.15084791e-01],\n",
       "       [1.25588089e-01],\n",
       "       [3.17552567e-01],\n",
       "       [1.01044744e-01],\n",
       "       [7.64384568e-02],\n",
       "       [7.43922889e-02],\n",
       "       [1.20363861e-01],\n",
       "       [2.73122758e-01],\n",
       "       [1.11365736e-01],\n",
       "       [2.31741041e-01],\n",
       "       [2.71700799e-01],\n",
       "       [1.19474828e-01],\n",
       "       [9.52669978e-02],\n",
       "       [8.76197815e-02],\n",
       "       [1.30745947e-01],\n",
       "       [1.24842435e-01],\n",
       "       [3.83370191e-01],\n",
       "       [1.28253728e-01],\n",
       "       [1.33649886e-01],\n",
       "       [2.03710496e-01],\n",
       "       [1.75760835e-01],\n",
       "       [7.70096358e-06],\n",
       "       [1.43827379e-01],\n",
       "       [1.20237708e-01],\n",
       "       [1.17778301e-01],\n",
       "       [2.76943147e-01],\n",
       "       [3.72409821e-04],\n",
       "       [1.11515731e-01],\n",
       "       [1.77943796e-01],\n",
       "       [1.83039248e-01],\n",
       "       [1.22385561e-01],\n",
       "       [9.88779664e-02],\n",
       "       [1.05829537e-01],\n",
       "       [7.95305967e-02],\n",
       "       [1.51401132e-01],\n",
       "       [1.25351280e-01],\n",
       "       [1.42143577e-01],\n",
       "       [9.51578617e-02],\n",
       "       [1.68331504e-01],\n",
       "       [1.46276385e-01],\n",
       "       [1.25496894e-01],\n",
       "       [8.70428979e-02],\n",
       "       [1.93903089e-01],\n",
       "       [9.65257287e-02],\n",
       "       [1.05914980e-01],\n",
       "       [5.97834289e-02],\n",
       "       [7.38768578e-02],\n",
       "       [1.76602930e-01],\n",
       "       [1.35128289e-01]], dtype=float32)"
      ]
     },
     "execution_count": 28,
     "metadata": {},
     "output_type": "execute_result"
    }
   ],
   "source": [
    "model.predict(X_test)"
   ]
  },
  {
   "cell_type": "code",
   "execution_count": null,
   "metadata": {},
   "outputs": [],
   "source": []
  }
 ],
 "metadata": {
  "kernelspec": {
   "display_name": "Python 3",
   "language": "python",
   "name": "python3"
  },
  "language_info": {
   "codemirror_mode": {
    "name": "ipython",
    "version": 3
   },
   "file_extension": ".py",
   "mimetype": "text/x-python",
   "name": "python",
   "nbconvert_exporter": "python",
   "pygments_lexer": "ipython3",
   "version": "3.7.6"
  }
 },
 "nbformat": 4,
 "nbformat_minor": 4
}
