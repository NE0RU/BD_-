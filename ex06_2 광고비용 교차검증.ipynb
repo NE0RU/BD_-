{
 "cells": [
  {
   "cell_type": "markdown",
   "metadata": {},
   "source": [
    "# 교차검증 대입"
   ]
  },
  {
   "cell_type": "code",
   "execution_count": 43,
   "metadata": {},
   "outputs": [
    {
     "data": {
      "text/plain": [
       "dict_keys(['explained_variance', 'r2', 'max_error', 'neg_median_absolute_error', 'neg_mean_absolute_error', 'neg_mean_squared_error', 'neg_mean_squared_log_error', 'neg_root_mean_squared_error', 'neg_mean_poisson_deviance', 'neg_mean_gamma_deviance', 'accuracy', 'roc_auc', 'roc_auc_ovr', 'roc_auc_ovo', 'roc_auc_ovr_weighted', 'roc_auc_ovo_weighted', 'balanced_accuracy', 'average_precision', 'neg_log_loss', 'neg_brier_score', 'adjusted_rand_score', 'homogeneity_score', 'completeness_score', 'v_measure_score', 'mutual_info_score', 'adjusted_mutual_info_score', 'normalized_mutual_info_score', 'fowlkes_mallows_score', 'precision', 'precision_macro', 'precision_micro', 'precision_samples', 'precision_weighted', 'recall', 'recall_macro', 'recall_micro', 'recall_samples', 'recall_weighted', 'f1', 'f1_macro', 'f1_micro', 'f1_samples', 'f1_weighted', 'jaccard', 'jaccard_macro', 'jaccard_micro', 'jaccard_samples', 'jaccard_weighted'])"
      ]
     },
     "execution_count": 43,
     "metadata": {},
     "output_type": "execute_result"
    }
   ],
   "source": [
    "\"\"\"교차검증 scoreing 넣을수있는 데이터\"\"\"\n",
    "from sklearn.metrics import SCORERS\n",
    "SCORERS.keys()"
   ]
  },
  {
   "cell_type": "markdown",
   "metadata": {},
   "source": [
    "CAUTION_ 사이킷런의 교차 검증 기능은 scoring 매개변수에 (낮을수록 좋은) 비용 함수가 아니라 (클수록 좋은) 효용 함수를 기대합니다. 그래서 평균 제곱 오차(MSE)의 반댓값(즉, 음숫값)을 계산하는 neg_mean_squared_error 함수를 사용합니다. 이런 이유로 앞선 코드에서 제곱근을 계산하기 전에 -scores로 부호를 바꿨습니다.50"
   ]
  },
  {
   "cell_type": "code",
   "execution_count": 49,
   "metadata": {},
   "outputs": [
    {
     "name": "stdout",
     "output_type": "stream",
     "text": [
      "alpha : 1e-07 \t점수 : 0.7340669416726127\n",
      "alpha : 1e-06 \t점수 : 0.734066941670007\n",
      "alpha : 1e-05 \t점수 : 0.7340669416439531\n",
      "alpha : 0.0001 \t점수 : 0.7340669413834198\n",
      "alpha : 0.001 \t점수 : 0.734066938778078\n",
      "alpha : 0.01 \t점수 : 0.7340669127250925\n",
      "alpha : 0.1 \t점수 : 0.7340666522376955\n",
      "alpha : 1 \t점수 : 0.7340640516053037\n",
      "alpha : 10 \t점수 : 0.7340384652034113\n",
      "alpha : 100 \t점수 : 0.7338207302453565\n",
      "alpha : 1000 \t점수 : 0.733532106229459\n"
     ]
    }
   ],
   "source": [
    "alpha_list = [0.0000001,0.000001,0.00001, 0.0001, 0.001, 0.01, 0.1, 1, 10, 100, 1000]\n",
    "for alpha in alpha_list:\n",
    "    model = Ridge(alpha=alpha)\n",
    "    result = cross_val_score(model, X_train, y_train, cv=5,\n",
    "                             scoring=\"neg_mean_squared_error\")\n",
    "\n",
    "    print(\"alpha :\",alpha,\"\\t점수 :\",np.sqrt(-result.mean()))"
   ]
  },
  {
   "cell_type": "code",
   "execution_count": 43,
   "metadata": {},
   "outputs": [
    {
     "name": "stdout",
     "output_type": "stream",
     "text": [
      "alpha : 1e-07 \t점수 : 0.7340668838399427\n",
      "alpha : 1e-06 \t점수 : 0.7340663622050367\n",
      "alpha : 1e-05 \t점수 : 0.7340611547120386\n",
      "alpha : 0.0001 \t점수 : 0.7340099856099159\n",
      "alpha : 0.001 \t점수 : 0.7338880335560243\n",
      "alpha : 0.01 \t점수 : 0.7394324983867261\n",
      "alpha : 0.1 \t점수 : 1.0847067962588484\n",
      "alpha : 1 \t점수 : 1.535707027121512\n",
      "alpha : 10 \t점수 : 5.294955031751007\n",
      "alpha : 100 \t점수 : 5.294955031751007\n",
      "alpha : 1000 \t점수 : 5.294955031751007\n",
      "alpha : 10000 \t점수 : 5.294955031751007\n"
     ]
    }
   ],
   "source": [
    "alpha_list = [0.0000001,0.000001,0.00001, 0.0001, 0.001, 0.01, 0.1, 1, 10, 100, 1000, 10000]\n",
    "for alpha in alpha_list:\n",
    "    model = Lasso(alpha=alpha)\n",
    "    result = cross_val_score(model, X_train, y_train, cv=5\n",
    "                            ,scoring=\"neg_mean_squared_error\")\n",
    "    print(\"alpha :\",alpha,\"\\t점수 :\",np.sqrt(-result.mean()))"
   ]
  },
  {
   "cell_type": "markdown",
   "metadata": {},
   "source": [
    "# 데이터 컬럼 더 많이 증가(실제로 오르지는 않음)"
   ]
  },
  {
   "cell_type": "code",
   "execution_count": null,
   "metadata": {},
   "outputs": [],
   "source": [
    "data = pd.read_csv('data/Advertising.csv', index_col=0)"
   ]
  },
  {
   "cell_type": "code",
   "execution_count": null,
   "metadata": {},
   "outputs": [],
   "source": [
    "X = data.iloc[:,:2]\n",
    "y = data.iloc[:,3]"
   ]
  },
  {
   "cell_type": "code",
   "execution_count": null,
   "metadata": {},
   "outputs": [],
   "source": [
    "X['TV2'] = X['TV']**2\n",
    "X['Radio2'] = X['Radio']**2\n",
    "X['TV3'] = X['TV']**3\n",
    "X['Radio3'] = X['Radio']**3\n",
    "X['TV4'] = X['TV']**4\n",
    "X['Radio4'] = X['Radio']**4\n",
    "X['TV5'] = X['TV']**5\n",
    "X['Radio5'] = X['Radio']**5\n",
    "X['TV6'] = X['TV']**6\n",
    "X['Radio6'] = X['Radio']**6"
   ]
  },
  {
   "cell_type": "code",
   "execution_count": null,
   "metadata": {},
   "outputs": [],
   "source": [
    "X.head()"
   ]
  },
  {
   "cell_type": "code",
   "execution_count": null,
   "metadata": {},
   "outputs": [],
   "source": [
    "X_train, X_test, y_train, y_test = train_test_split(X, y, random_state=0, test_size=0.3)"
   ]
  },
  {
   "cell_type": "code",
   "execution_count": null,
   "metadata": {},
   "outputs": [],
   "source": [
    "lr = LinearRegression()\n",
    "lr.fit(X_train, y_train)\n",
    "print(\"훈련 세트 점수: {:.2f}\".format(lr.score(X_train, y_train)))\n",
    "print(\"테스트 세트 점수: {:.3f}\".format(lr.score(X_test, y_test)))\n",
    "y_pred = lr.predict(X_test)\n",
    "print(\"테스트 세트 점수: {:.5f}\".format(np.sqrt(metrics.mean_squared_error(y_test, y_pred))))"
   ]
  },
  {
   "cell_type": "code",
   "execution_count": null,
   "metadata": {},
   "outputs": [],
   "source": [
    "lr = LinearRegression()\n",
    "lr.fit(X_train, y_train)\n",
    "print(\"훈련 세트 점수: {:.2f}\".format(lr.score(X_train, y_train)))\n",
    "print(\"테스트 세트 점수: {:.3f}\".format(lr.score(X_test, y_test)))\n",
    "y_pred = lr.predict(X_test)\n",
    "print(\"테스트 세트 점수: {:.5f}\".format(np.sqrt(metrics.mean_squared_error(y_test, y_pred))))"
   ]
  },
  {
   "cell_type": "code",
   "execution_count": null,
   "metadata": {},
   "outputs": [],
   "source": [
    "lr.coef_"
   ]
  },
  {
   "cell_type": "code",
   "execution_count": null,
   "metadata": {},
   "outputs": [],
   "source": [
    "lr = LinearRegression()\n",
    "lr.fit(X_train, y_train)\n",
    "print(\"훈련 세트 점수: {:.2f}\".format(lr.score(X_train, y_train)))\n",
    "print(\"테스트 세트 점수: {:.3f}\".format(lr.score(X_test, y_test)))\n",
    "y_pred = lr.predict(X_test)\n",
    "print(\"테스트 세트 점수: {:.5f}\".format(np.sqrt(metrics.mean_squared_error(y_test, y_pred))))"
   ]
  },
  {
   "cell_type": "code",
   "execution_count": null,
   "metadata": {},
   "outputs": [],
   "source": [
    "lr.coef_"
   ]
  }
 ],
 "metadata": {
  "kernelspec": {
   "display_name": "Python 3",
   "language": "python",
   "name": "python3"
  },
  "language_info": {
   "codemirror_mode": {
    "name": "ipython",
    "version": 3
   },
   "file_extension": ".py",
   "mimetype": "text/x-python",
   "name": "python",
   "nbconvert_exporter": "python",
   "pygments_lexer": "ipython3",
   "version": "3.7.6"
  }
 },
 "nbformat": 4,
 "nbformat_minor": 2
}
