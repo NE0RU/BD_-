{
 "cells": [
  {
   "cell_type": "markdown",
   "metadata": {},
   "source": [
    "# - KNN(K-nearest neighbors) Regression K-근접이웃 회귀\n",
    "#### 1. 정의\n",
    "- 가까운 점들을 기준으로 점들의 평균을 예측하는 것\n",
    "- 작동방식 : 13번 점을 예측하고자 할 경우, K = 3이다\n",
    "<img src=\"https://user-images.githubusercontent.com/49559408/66479897-62a00300-ead8-11e9-9dfc-ca144ab31875.PNG\">\n",
    "\n",
    "- 선택된 점은 6,5,1번점이 선택되었고, 13번 점의 예측 값은 주변 3개의 데이터들의 target 값의 평균이다.\n",
    "<img src=\"https://user-images.githubusercontent.com/49559408/66479898-62a00300-ead8-11e9-8872-f47981442c50.PNG\">"
   ]
  },
  {
   "cell_type": "markdown",
   "metadata": {},
   "source": [
    "## 필요한 모듈 import\n",
    "1. matplotlib 모듈 불러오기, 이름:plt\n",
    "2. pandas 모듈 불러오기, 이름 : pd\n",
    "3. 사이킷런에 내장되어 있는 boston 데이터 가져오기\n",
    "4. train 데이터와 test 데이터를 분류하기 위한 모듈 가져오기\n",
    "5. KNN 회귀 알고리즘 가져오기\n",
    "6. MSE를 구하기 위한 metrics 모듈 가져오기\n",
    "7. 루트를 계산하기 위한 sqrt 모듈 가져오기"
   ]
  },
  {
   "cell_type": "code",
   "execution_count": 20,
   "metadata": {},
   "outputs": [],
   "source": [
    "# 5.\n",
    "from sklearn import neighbors\n",
    "# 6.\n",
    "from sklearn.metrics import mean_squared_error \n",
    "# 7.\n",
    "from math import sqrt"
   ]
  },
  {
   "cell_type": "markdown",
   "metadata": {},
   "source": [
    "#### - 보스턴(boston)데이터를 boston 이라는 변수에 저장하기"
   ]
  },
  {
   "cell_type": "code",
   "execution_count": 5,
   "metadata": {},
   "outputs": [],
   "source": []
  },
  {
   "cell_type": "code",
   "execution_count": 7,
   "metadata": {},
   "outputs": [
    {
     "name": "stdout",
     "output_type": "stream",
     "text": [
      "['CRIM' 'ZN' 'INDUS' 'CHAS' 'NOX' 'RM' 'AGE' 'DIS' 'RAD' 'TAX' 'PTRATIO'\n",
      " 'B' 'LSTAT']\n"
     ]
    }
   ],
   "source": [
    "print(boston.feature_names)"
   ]
  },
  {
   "cell_type": "code",
   "execution_count": 9,
   "metadata": {},
   "outputs": [
    {
     "name": "stdout",
     "output_type": "stream",
     "text": [
      ".. _boston_dataset:\n",
      "\n",
      "Boston house prices dataset\n",
      "---------------------------\n",
      "\n",
      "**Data Set Characteristics:**  \n",
      "\n",
      "    :Number of Instances: 506 \n",
      "\n",
      "    :Number of Attributes: 13 numeric/categorical predictive. Median Value (attribute 14) is usually the target.\n",
      "\n",
      "    :Attribute Information (in order):\n",
      "        - CRIM     per capita crime rate by town\n",
      "        - ZN       proportion of residential land zoned for lots over 25,000 sq.ft.\n",
      "        - INDUS    proportion of non-retail business acres per town\n",
      "        - CHAS     Charles River dummy variable (= 1 if tract bounds river; 0 otherwise)\n",
      "        - NOX      nitric oxides concentration (parts per 10 million)\n",
      "        - RM       average number of rooms per dwelling\n",
      "        - AGE      proportion of owner-occupied units built prior to 1940\n",
      "        - DIS      weighted distances to five Boston employment centres\n",
      "        - RAD      index of accessibility to radial highways\n",
      "        - TAX      full-value property-tax rate per $10,000\n",
      "        - PTRATIO  pupil-teacher ratio by town\n",
      "        - B        1000(Bk - 0.63)^2 where Bk is the proportion of blacks by town\n",
      "        - LSTAT    % lower status of the population\n",
      "        - MEDV     Median value of owner-occupied homes in $1000's\n",
      "\n",
      "    :Missing Attribute Values: None\n",
      "\n",
      "    :Creator: Harrison, D. and Rubinfeld, D.L.\n",
      "\n",
      "This is a copy of UCI ML housing dataset.\n",
      "https://archive.ics.uci.edu/ml/machine-learning-databases/housing/\n",
      "\n",
      "\n",
      "This dataset was taken from the StatLib library which is maintained at Carnegie Mellon University.\n",
      "\n",
      "The Boston house-price data of Harrison, D. and Rubinfeld, D.L. 'Hedonic\n",
      "prices and the demand for clean air', J. Environ. Economics & Management,\n",
      "vol.5, 81-102, 1978.   Used in Belsley, Kuh & Welsch, 'Regression diagnostics\n",
      "...', Wiley, 1980.   N.B. Various transformations are used in the table on\n",
      "pages 244-261 of the latter.\n",
      "\n",
      "The Boston house-price data has been used in many machine learning papers that address regression\n",
      "problems.   \n",
      "     \n",
      ".. topic:: References\n",
      "\n",
      "   - Belsley, Kuh & Welsch, 'Regression diagnostics: Identifying Influential Data and Sources of Collinearity', Wiley, 1980. 244-261.\n",
      "   - Quinlan,R. (1993). Combining Instance-Based and Model-Based Learning. In Proceedings on the Tenth International Conference of Machine Learning, 236-243, University of Massachusetts, Amherst. Morgan Kaufmann.\n",
      "\n"
     ]
    }
   ],
   "source": [
    "print(boston.DESCR)\n",
    "\n",
    "# crim 지역별 1인당 범죄율 **\n",
    "# zn 25000평방피트를 초과하는 거주지역의 비율\n",
    "# indus 비소매상업지역이 차지하는 면적 비율\n",
    "# chas 찰스강 위치변수(강 주변 1, 이외 0) **\n",
    "# nox 일산화질소 농도\n",
    "# rm 집의 평균 방 수 **\n",
    "# age 1940년 이전에 지어진 비율\n",
    "# dis 5가지 보스턴 시 고용 시설까지의 거리\n",
    "# rad 순환고속도로의 접근 용이성\n",
    "# tax 10000달러 당 재산세율\n",
    "# ptratio 지역별 학생과 교사 비율\n",
    "# b 지역별 흑인 비율 **\n",
    "# lstat 급여가 낮은 직업에 종사하는 인구 비율 **\n",
    "# medv 가격"
   ]
  },
  {
   "cell_type": "markdown",
   "metadata": {},
   "source": [
    "#### - X라는 변수에 data를, y라는 변수에 label(target)을 담기"
   ]
  },
  {
   "cell_type": "code",
   "execution_count": 12,
   "metadata": {},
   "outputs": [],
   "source": []
  },
  {
   "cell_type": "markdown",
   "metadata": {},
   "source": [
    "#### - train_test_split을 이용하여 train과 test분류 작업하기\n",
    "- test : 30%, train : 70%\n",
    "- random_state = 42, 데이터 분할시 셔플이 이루어지는데 이를 위한 시드값"
   ]
  },
  {
   "cell_type": "code",
   "execution_count": 13,
   "metadata": {},
   "outputs": [],
   "source": []
  },
  {
   "cell_type": "code",
   "execution_count": 14,
   "metadata": {},
   "outputs": [
    {
     "name": "stdout",
     "output_type": "stream",
     "text": [
      "354 152\n"
     ]
    }
   ],
   "source": [
    "print(len(X_train), len(X_test))"
   ]
  },
  {
   "cell_type": "markdown",
   "metadata": {},
   "source": [
    "#### - KNN 회귀모델(KNeighborsRegressor) 객체를 생성하여 model 이라는 변수에 저장하기 (이웃수 = 3)"
   ]
  },
  {
   "cell_type": "code",
   "execution_count": 46,
   "metadata": {},
   "outputs": [],
   "source": []
  },
  {
   "cell_type": "markdown",
   "metadata": {},
   "source": [
    "#### - 모델 학습(훈련)하기"
   ]
  },
  {
   "cell_type": "code",
   "execution_count": 47,
   "metadata": {},
   "outputs": [
    {
     "data": {
      "text/plain": [
       "KNeighborsRegressor(algorithm='auto', leaf_size=30, metric='minkowski',\n",
       "                    metric_params=None, n_jobs=None, n_neighbors=3, p=2,\n",
       "                    weights='uniform')"
      ]
     },
     "execution_count": 47,
     "metadata": {},
     "output_type": "execute_result"
    }
   ],
   "source": []
  },
  {
   "cell_type": "markdown",
   "metadata": {},
   "source": [
    "#### - 테스트 데이터 예측하기"
   ]
  },
  {
   "cell_type": "code",
   "execution_count": 23,
   "metadata": {},
   "outputs": [],
   "source": []
  },
  {
   "cell_type": "markdown",
   "metadata": {},
   "source": [
    "#### - 실제 결과값과 예측값 사이의 RMSE 계산하여 error 라는 변수에 담기"
   ]
  },
  {
   "cell_type": "code",
   "execution_count": 26,
   "metadata": {},
   "outputs": [
    {
     "name": "stdout",
     "output_type": "stream",
     "text": [
      "5.305594669339303\n"
     ]
    }
   ],
   "source": [
    "\n",
    "print(error)"
   ]
  },
  {
   "cell_type": "markdown",
   "metadata": {},
   "source": [
    "# K값에 따른 rmse를 구해보기\n",
    "#### 정확한 예측을 위한 최적의 K 값을 찾아 보자 \n",
    "- K 값에 따른 rmse를 시각화하기 위해, rmse_val 라는 리스트 정의"
   ]
  },
  {
   "cell_type": "code",
   "execution_count": 36,
   "metadata": {},
   "outputs": [],
   "source": [
    "rmse_val = []"
   ]
  },
  {
   "cell_type": "markdown",
   "metadata": {},
   "source": [
    "- K=1~20까지 for문을 이용하여 rmse 구해보기"
   ]
  },
  {
   "cell_type": "code",
   "execution_count": 37,
   "metadata": {},
   "outputs": [
    {
     "name": "stdout",
     "output_type": "stream",
     "text": [
      "RMSE value for k=  1 is: 6.194877977643687\n",
      "RMSE value for k=  2 is: 5.82438866229527\n",
      "RMSE value for k=  3 is: 5.305594669339303\n",
      "RMSE value for k=  4 is: 5.419213807322394\n",
      "RMSE value for k=  5 is: 5.562872222909767\n",
      "RMSE value for k=  6 is: 5.798231007957291\n",
      "RMSE value for k=  7 is: 5.902172859914698\n",
      "RMSE value for k=  8 is: 6.004740195117127\n",
      "RMSE value for k=  9 is: 6.173004158785208\n",
      "RMSE value for k=  10 is: 6.151898562318192\n",
      "RMSE value for k=  11 is: 6.293228623808828\n",
      "RMSE value for k=  12 is: 6.367354125245945\n",
      "RMSE value for k=  13 is: 6.356599488238762\n",
      "RMSE value for k=  14 is: 6.4469336231873084\n",
      "RMSE value for k=  15 is: 6.53879674447043\n",
      "RMSE value for k=  16 is: 6.609616865208752\n",
      "RMSE value for k=  17 is: 6.5769519802268155\n",
      "RMSE value for k=  18 is: 6.614885065872109\n",
      "RMSE value for k=  19 is: 6.675308364611152\n",
      "RMSE value for k=  20 is: 6.7229371836274066\n"
     ]
    }
   ],
   "source": [
    "for K in range(20):\n",
    "    K = K+1\n",
    "    #모델 생성\n",
    "    #모델 훈련\n",
    "    #모델 예측\n",
    "    error = sqrt(mean_squared_error(y_test,pred)) # rmse 계산하기\n",
    "    rmse_val.append(error) # rmse를 리스트에 담기\n",
    "    print('RMSE value for k= ' , K , 'is:', error)"
   ]
  },
  {
   "cell_type": "markdown",
   "metadata": {},
   "source": [
    "#### - rmse_val를 DataFrame으로 변경하여 plot 함수를 이용해 그려보고 최적의 k값 찾아보기"
   ]
  },
  {
   "cell_type": "code",
   "execution_count": 48,
   "metadata": {},
   "outputs": [
    {
     "data": {
      "text/plain": [
       "<matplotlib.axes._subplots.AxesSubplot at 0x17340c44d48>"
      ]
     },
     "execution_count": 48,
     "metadata": {},
     "output_type": "execute_result"
    },
    {
     "data": {
      "image/png": "[encoded data removed]",
      "text/plain": [
       "<Figure size 432x288 with 1 Axes>"
      ]
     },
     "metadata": {
      "needs_background": "light"
     },
     "output_type": "display_data"
    }
   ],
   "source": []
  }
 ],
 "metadata": {
  "kernelspec": {
   "display_name": "Python 3",
   "language": "python",
   "name": "python3"
  },
  "language_info": {
   "codemirror_mode": {
    "name": "ipython",
    "version": 3
   },
   "file_extension": ".py",
   "mimetype": "text/x-python",
   "name": "python",
   "nbconvert_exporter": "python",
   "pygments_lexer": "ipython3",
   "version": "3.7.6"
  }
 },
 "nbformat": 4,
 "nbformat_minor": 4
}
